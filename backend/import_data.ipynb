{
 "cells": [
  {
   "cell_type": "code",
   "execution_count": null,
   "metadata": {},
   "outputs": [],
   "source": [
    "from mplsoccer.statsbomb import Sbopen\n",
    "from db_connection import get_db\n",
    "from sql_schemas import Matches, Events, EventTypes, Teams, Competitions, PlayerPositions\n",
    "import pandas as pd\n",
    "import numpy as np\n",
    "\n",
    "statsbomb_api = Sbopen()\n",
    "db = next(get_db())"
   ]
  },
  {
   "cell_type": "code",
   "execution_count": 2,
   "metadata": {},
   "outputs": [],
   "source": [
    "from requests import Session\n",
    "\n",
    "\n",
    "def insert_player_positions(db: Session, df_event):\n",
    "    event_records = df_event[2].to_dict(orient=\"records\")\n",
    "    \n",
    "    event_ids = {p[\"id\"] for p in event_records}\n",
    "\n",
    "    existing_positions = db.query(PlayerPositions.event_id).filter(PlayerPositions.event_id.in_(event_ids)).all()\n",
    "    existing_event_ids = {pos.event_id for pos in existing_positions}\n",
    "\n",
    "    new_positions = [\n",
    "        PlayerPositions(\n",
    "            match_id=p['match_id'], teammate=p['teammate'], x=p['x'], y=p['y'],\n",
    "            event_id=p['id'], player_id=p['player_id'], position_id=p['position_id']\n",
    "        )\n",
    "        for p in event_records if p[\"id\"] not in existing_event_ids\n",
    "    ]\n",
    "\n",
    "    # Bulk insert only new records\n",
    "    if new_positions:\n",
    "        db.bulk_save_objects(new_positions)\n",
    "        db.commit()"
   ]
  },
  {
   "cell_type": "code",
   "execution_count": 3,
   "metadata": {},
   "outputs": [],
   "source": [
    "def insert_competitions(db: Session, df_competitions):\n",
    "    competition_records = df_competitions.to_dict(orient=\"records\")\n",
    "    \n",
    "    competition_ids = {p[\"competition_id\"] for p in competition_records}\n",
    "\n",
    "    existing_positions = db.query(Competitions).filter(Competitions.competition_id.in_(competition_ids)).all()\n",
    "    existing_competition_ids = {pos.competition_id for pos in existing_positions}\n",
    "    new_competitions = [\n",
    "        Competitions(\n",
    "            competition_id=p['competition_id'],competition_name=p['competition_name'], season_id=p['season_id'],  season_name=p['season_name'],\n",
    "            country_name=p['country_name'], competition_gender=p['competition_gender'],\n",
    "            competition_youth=p['competition_youth'], competition_international=p['competition_international']\n",
    "        )\n",
    "        for p in competition_records if p[\"competition_id\"] not in existing_competition_ids\n",
    "    ]\n",
    "\n",
    "    if new_competitions:\n",
    "        db.bulk_save_objects(new_competitions)\n",
    "        db.commit()\n"
   ]
  },
  {
   "cell_type": "code",
   "execution_count": null,
   "metadata": {},
   "outputs": [],
   "source": [
    "def insert_event_data(db: Session, df_event):\n",
    "    df = df_event[0]\n",
    "    df = df.fillna(-1)\n",
    "    event_records = df.to_dict(orient=\"records\")\n",
    "    \n",
    "    event_ids = {p[\"id\"] for p in event_records}\n",
    "    existing_events = db.query(Events.id).filter(Events.id.in_(event_ids)).all()\n",
    "    existing_event_ids = {pos.id for pos in existing_events}\n",
    "\n",
    "    new_events = [\n",
    "        Events(\n",
    "            id=p['id'], match_id=p['match_id'], x=p['x'], y=p['y'],\n",
    "            type_id=p['type_id'], player_id=p['player_id'], position_id=p['position_id'],\n",
    "             end_x=p['end_x'], end_y=p['end_y'], period=p['period'], timestamp=p['timestamp']\n",
    "        )\n",
    "        for p in event_records if p[\"id\"] not in existing_event_ids\n",
    "    ]\n",
    "    \n",
    "    if new_events:\n",
    "        db.bulk_save_objects(new_events)\n",
    "    event_types = df.loc[:,['type_id','type_name']].drop_duplicates().to_dict(orient=\"records\")\n",
    "\n",
    "\n",
    "    event_type_ids = {p[\"type_id\"] for p in event_types}\n",
    "    existing_event_types = db.query(EventTypes.id).filter(EventTypes.id.in_(event_type_ids)).all()\n",
    "    existing_event_type_ids = {pos.id for pos in existing_event_types}\n",
    "\n",
    "    new_event_types = [\n",
    "        EventTypes(\n",
    "            id=p['type_id'], name=p['type_name']\n",
    "        )\n",
    "        for p in event_types if p[\"type_id\"] not in existing_event_type_ids\n",
    "    ]\n",
    "    if new_event_types:\n",
    "        db.bulk_save_objects(new_event_types)\n",
    "    \n"
   ]
  },
  {
   "cell_type": "code",
   "execution_count": 5,
   "metadata": {},
   "outputs": [
    {
     "data": {
      "application/vnd.jupyter.widget-view+json": {
       "model_id": "bd8c451763214c3fb7ec98f165bfaa76",
       "version_major": 2,
       "version_minor": 0
      },
      "text/plain": [
       "IntProgress(value=0, description='Loading:', max=10, style=ProgressStyle(bar_color='blue'))"
      ]
     },
     "metadata": {},
     "output_type": "display_data"
    },
    {
     "name": "stderr",
     "output_type": "stream",
     "text": [
      "C:\\Users\\juras\\AppData\\Local\\Temp\\ipykernel_18216\\103529034.py:24: FutureWarning: Downcasting object dtype arrays on .fillna, .ffill, .bfill is deprecated and will change in a future version. Call result.infer_objects(copy=False) instead. To opt-in to the future behavior, set `pd.set_option('future.no_silent_downcasting', True)`\n",
      "  matches = matches.fillna(-1)\n"
     ]
    },
    {
     "ename": "KeyError",
     "evalue": "'period'",
     "output_type": "error",
     "traceback": [
      "\u001b[1;31m---------------------------------------------------------------------------\u001b[0m",
      "\u001b[1;31mKeyError\u001b[0m                                  Traceback (most recent call last)",
      "Cell \u001b[1;32mIn[5], line 59\u001b[0m\n\u001b[0;32m     57\u001b[0m         db\u001b[38;5;241m.\u001b[39mcommit()\n\u001b[0;32m     58\u001b[0m         df_event \u001b[38;5;241m=\u001b[39m statsbomb_api\u001b[38;5;241m.\u001b[39mevent(match[\u001b[38;5;124m'\u001b[39m\u001b[38;5;124mmatch_id\u001b[39m\u001b[38;5;124m'\u001b[39m])\n\u001b[1;32m---> 59\u001b[0m         \u001b[43minsert_event_data\u001b[49m\u001b[43m(\u001b[49m\u001b[43mdb\u001b[49m\u001b[38;5;241;43m=\u001b[39;49m\u001b[43mdb\u001b[49m\u001b[43m,\u001b[49m\u001b[43mdf_event\u001b[49m\u001b[38;5;241;43m=\u001b[39;49m\u001b[43mdf_event\u001b[49m\u001b[43m)\u001b[49m\n\u001b[0;32m     60\u001b[0m         insert_player_positions(db\u001b[38;5;241m=\u001b[39mdb,df_event\u001b[38;5;241m=\u001b[39mdf_event)\n\u001b[0;32m     62\u001b[0m db\u001b[38;5;241m.\u001b[39mclose()\n",
      "Cell \u001b[1;32mIn[4], line 14\u001b[0m, in \u001b[0;36minsert_event_data\u001b[1;34m(db, df_event)\u001b[0m\n\u001b[0;32m      7\u001b[0m existing_events \u001b[38;5;241m=\u001b[39m db\u001b[38;5;241m.\u001b[39mquery(Events\u001b[38;5;241m.\u001b[39mid)\u001b[38;5;241m.\u001b[39mfilter(Events\u001b[38;5;241m.\u001b[39mid\u001b[38;5;241m.\u001b[39min_(event_ids))\u001b[38;5;241m.\u001b[39mall()\n\u001b[0;32m      8\u001b[0m existing_event_ids \u001b[38;5;241m=\u001b[39m {pos\u001b[38;5;241m.\u001b[39mid \u001b[38;5;28;01mfor\u001b[39;00m pos \u001b[38;5;129;01min\u001b[39;00m existing_events}\n\u001b[0;32m     10\u001b[0m new_events \u001b[38;5;241m=\u001b[39m [\n\u001b[0;32m     11\u001b[0m     Events(\n\u001b[0;32m     12\u001b[0m         \u001b[38;5;28mid\u001b[39m\u001b[38;5;241m=\u001b[39mp[\u001b[38;5;124m'\u001b[39m\u001b[38;5;124mid\u001b[39m\u001b[38;5;124m'\u001b[39m], match_id\u001b[38;5;241m=\u001b[39mp[\u001b[38;5;124m'\u001b[39m\u001b[38;5;124mmatch_id\u001b[39m\u001b[38;5;124m'\u001b[39m], x\u001b[38;5;241m=\u001b[39mp[\u001b[38;5;124m'\u001b[39m\u001b[38;5;124mx\u001b[39m\u001b[38;5;124m'\u001b[39m], y\u001b[38;5;241m=\u001b[39mp[\u001b[38;5;124m'\u001b[39m\u001b[38;5;124my\u001b[39m\u001b[38;5;124m'\u001b[39m],\n\u001b[0;32m     13\u001b[0m         type_id\u001b[38;5;241m=\u001b[39mp[\u001b[38;5;124m'\u001b[39m\u001b[38;5;124mtype_id\u001b[39m\u001b[38;5;124m'\u001b[39m], player_id\u001b[38;5;241m=\u001b[39mp[\u001b[38;5;124m'\u001b[39m\u001b[38;5;124mplayer_id\u001b[39m\u001b[38;5;124m'\u001b[39m], position_id\u001b[38;5;241m=\u001b[39mp[\u001b[38;5;124m'\u001b[39m\u001b[38;5;124mposition_id\u001b[39m\u001b[38;5;124m'\u001b[39m],\n\u001b[1;32m---> 14\u001b[0m          end_x\u001b[38;5;241m=\u001b[39mp[\u001b[38;5;124m'\u001b[39m\u001b[38;5;124mend_x\u001b[39m\u001b[38;5;124m'\u001b[39m], end_y\u001b[38;5;241m=\u001b[39mp[\u001b[38;5;124m'\u001b[39m\u001b[38;5;124mend_y\u001b[39m\u001b[38;5;124m'\u001b[39m], period\u001b[38;5;241m=\u001b[39m\u001b[43mp\u001b[49m\u001b[43m[\u001b[49m\u001b[38;5;124;43m'\u001b[39;49m\u001b[38;5;124;43mperiod\u001b[39;49m\u001b[38;5;124;43m'\u001b[39;49m\u001b[43m]\u001b[49m, timestamp\u001b[38;5;241m=\u001b[39mp[\u001b[38;5;124m'\u001b[39m\u001b[38;5;124mtimestamp\u001b[39m\u001b[38;5;124m'\u001b[39m]\n\u001b[0;32m     15\u001b[0m     )\n\u001b[0;32m     16\u001b[0m     \u001b[38;5;28;01mfor\u001b[39;00m p \u001b[38;5;129;01min\u001b[39;00m event_records \u001b[38;5;28;01mif\u001b[39;00m p[\u001b[38;5;124m\"\u001b[39m\u001b[38;5;124mid\u001b[39m\u001b[38;5;124m\"\u001b[39m] \u001b[38;5;129;01mnot\u001b[39;00m \u001b[38;5;129;01min\u001b[39;00m existing_event_ids\n\u001b[0;32m     17\u001b[0m ]\n\u001b[0;32m     19\u001b[0m \u001b[38;5;28;01mif\u001b[39;00m new_events:\n\u001b[0;32m     20\u001b[0m     db\u001b[38;5;241m.\u001b[39mbulk_save_objects(new_events)\n",
      "\u001b[1;31mKeyError\u001b[0m: 'period'"
     ]
    }
   ],
   "source": [
    "import ipywidgets as widgets\n",
    "\n",
    "\n",
    "competition = statsbomb_api.competition()\n",
    "\n",
    "progress = widgets.IntProgress(\n",
    "    value=0,\n",
    "    min=0,\n",
    "    max=10,\n",
    "    description='Loading:',\n",
    "    bar_style='',\n",
    "    style={'bar_color': 'blue'},\n",
    "    orientation='horizontal'\n",
    ")\n",
    "display(progress)\n",
    "\n",
    "\n",
    "\n",
    "competitions = competition[~competition['match_available_360'].isna()]\n",
    "insert_competitions(db, competitions)\n",
    "for index, row in competitions.iterrows():\n",
    "    matches = statsbomb_api.match(competition_id=row['competition_id'], season_id=row['season_id'])\n",
    "    matches = matches[matches['match_status_360'] =='available']\n",
    "    matches = matches.fillna(-1)\n",
    "    progress.description = f\"{row['competition_name']}: \"\n",
    "    progress.value = 0\n",
    "    progress.max = len(matches)\n",
    "\n",
    "    for matchindex, match in matches.iterrows():\n",
    "        progress.value+=1\n",
    "        #player_pos, events = a.frame(match_id=match['match_id'])\n",
    "        db_match = Matches(id=match['match_id'], \n",
    "                           match_date=match['match_date'], \n",
    "                           away_score=match['away_score'], \n",
    "                           home_score=match['home_score'],\n",
    "                           home_team_id=match['home_team_id'],\n",
    "                           home_manager_id=match['home_team_managers_id'],\n",
    "                           away_team_id=match['away_team_id'],\n",
    "                           away_manager_id=match['away_team_managers_id'],\n",
    "                           competition_id = match['competition_id'],\n",
    "                           match_week=match['match_week'],\n",
    "                           season_id=match['season_id'],\n",
    "                           referee_id=match['referee_id'],\n",
    "                           stadium_id=match['stadium_id'],\n",
    "                           )\n",
    "        qry_object = db.query(Matches).where(Matches.id == db_match.id)\n",
    "        if qry_object.first() is None:\n",
    "            db.add(db_match)\n",
    "        db_home_team=Teams(id=match['home_team_id'], name=match['home_team_name'])\n",
    "        qry_object = db.query(Teams).where(Teams.id == db_home_team.id)\n",
    "        if qry_object.first() is None:\n",
    "            db.add(db_home_team)\n",
    "        db_away_team = Teams(id=match['away_team_id'], name=match['away_team_name'])\n",
    "        qry_object = db.query(Teams).where(Teams.id == db_away_team.id)\n",
    "        if qry_object.first() is None:\n",
    "            db.add(db_away_team)\n",
    "        db.commit()\n",
    "        df_event = statsbomb_api.event(match['match_id'])\n",
    "        insert_event_data(db=db,df_event=df_event)\n",
    "        insert_player_positions(db=db,df_event=df_event)\n",
    "\n",
    "db.close()"
   ]
  }
 ],
 "metadata": {
  "kernelspec": {
   "display_name": "base",
   "language": "python",
   "name": "python3"
  },
  "language_info": {
   "codemirror_mode": {
    "name": "ipython",
    "version": 3
   },
   "file_extension": ".py",
   "mimetype": "text/x-python",
   "name": "python",
   "nbconvert_exporter": "python",
   "pygments_lexer": "ipython3",
   "version": "3.12.9"
  }
 },
 "nbformat": 4,
 "nbformat_minor": 2
}
